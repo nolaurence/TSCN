{
 "cells": [
  {
   "cell_type": "code",
   "execution_count": 0,
   "metadata": {
    "colab": {
     "base_uri": "https://localhost:8080/",
     "height": 125
    },
    "colab_type": "code",
    "id": "EwOygmhQN55r",
    "outputId": "e251cc7f-a71d-4803-884e-dd0eece52b71"
   },
   "outputs": [
    {
     "name": "stdout",
     "output_type": "stream",
     "text": [
      "Go to this URL in a browser: https://accounts.google.com/o/oauth2/auth?client_id=947318989803-6bn6qk8qdgf4n4g3pfee6491hc0brc4i.apps.googleusercontent.com&redirect_uri=urn%3aietf%3awg%3aoauth%3a2.0%3aoob&response_type=code&scope=email%20https%3a%2f%2fwww.googleapis.com%2fauth%2fdocs.test%20https%3a%2f%2fwww.googleapis.com%2fauth%2fdrive%20https%3a%2f%2fwww.googleapis.com%2fauth%2fdrive.photos.readonly%20https%3a%2f%2fwww.googleapis.com%2fauth%2fpeopleapi.readonly\n",
      "\n",
      "Enter your authorization code:\n",
      "··········\n",
      "Mounted at /content/drive\n"
     ]
    }
   ],
   "source": [
    "from google.colab import drive\n",
    "drive.mount('/content/drive')"
   ]
  },
  {
   "cell_type": "code",
   "execution_count": 0,
   "metadata": {
    "colab": {
     "base_uri": "https://localhost:8080/",
     "height": 34
    },
    "colab_type": "code",
    "id": "Mctkz661gIjh",
    "outputId": "8c5b1f3c-5865-4920-af74-5d7a18063de7"
   },
   "outputs": [
    {
     "name": "stdout",
     "output_type": "stream",
     "text": [
      "ecommerce-dataset.zip: Skipping, found more recently modified local copy (use --force to force download)\n"
     ]
    }
   ],
   "source": [
    "!mkdir -p ~/.kaggle\n",
    "!echo '{\"username\":\"nolaurence\",\"key\":\"581f65fa2f236667ac3989e5c525fbbb\"}' > ~/.kaggle/kaggle.json\n",
    "!chmod 600 ~/.kaggle/kaggle.json\n",
    "\n",
    "!kaggle datasets download -d retailrocket/ecommerce-dataset\n",
    "\n",
    "import zipfile\n",
    "zipFile = zipfile.ZipFile('/content/ecommerce-dataset.zip')\n",
    "for file in zipFile.namelist():\n",
    "    zipFile.extract(file, '/content')\n",
    "zipFile.close()"
   ]
  },
  {
   "cell_type": "code",
   "execution_count": 0,
   "metadata": {
    "colab": {
     "base_uri": "https://localhost:8080/",
     "height": 63
    },
    "colab_type": "code",
    "id": "gy6VfN8NQxbL",
    "outputId": "377ab076-e1d7-4835-b41f-8596ed0d7565"
   },
   "outputs": [
    {
     "data": {
      "text/html": [
       "<p style=\"color: red;\">\n",
       "The default version of TensorFlow in Colab will soon switch to TensorFlow 2.x.<br>\n",
       "We recommend you <a href=\"https://www.tensorflow.org/guide/migrate\" target=\"_blank\">upgrade</a> now \n",
       "or ensure your notebook will continue to use TensorFlow 1.x via the <code>%tensorflow_version 1.x</code> magic:\n",
       "<a href=\"https://colab.research.google.com/notebooks/tensorflow_version.ipynb\" target=\"_blank\">more info</a>.</p>\n"
      ],
      "text/plain": [
       "<IPython.core.display.HTML object>"
      ]
     },
     "metadata": {
      "tags": []
     },
     "output_type": "display_data"
    }
   ],
   "source": [
    "import numpy as np\n",
    "import pandas as pd\n",
    "import tensorflow as tf\n",
    "import argparse\n",
    "np.random.seed(1)"
   ]
  },
  {
   "cell_type": "code",
   "execution_count": 0,
   "metadata": {
    "colab": {},
    "colab_type": "code",
    "id": "HqVMwKxaQxT1"
   },
   "outputs": [],
   "source": [
    "# 构建商品图\n",
    "# data needed：用户id，与用户交互过的商品，数量，商品。\n",
    "# data directory:\n",
    "# /content/category_tree.csv\n",
    "# /content/events.csv\n",
    "# /content/item_properties_part1.csv\n",
    "# /content/item_properties_part2.csv"
   ]
  },
  {
   "cell_type": "code",
   "execution_count": 0,
   "metadata": {
    "colab": {},
    "colab_type": "code",
    "id": "qzGkZdlrkmix"
   },
   "outputs": [],
   "source": [
    "# x = []\n",
    "# for u in users:\n",
    "#   x.append(str(u))\n",
    "\n",
    "# 构建每个用户交互过的商品的数据集n\n",
    "# sortedbh = behaviordata.sort_values(by='visitorid')"
   ]
  },
  {
   "cell_type": "code",
   "execution_count": 0,
   "metadata": {
    "colab": {},
    "colab_type": "code",
    "id": "GvfdoPdeKE2P"
   },
   "outputs": [],
   "source": [
    "# 创建一个类似于上一个cell，item对于userid的字典m\n",
    "\n",
    "# np.save('/content/item2graph.npy', m)\n",
    "# print('saved')"
   ]
  },
  {
   "cell_type": "code",
   "execution_count": 0,
   "metadata": {
    "colab": {},
    "colab_type": "code",
    "id": "BZcmEzow5L0K"
   },
   "outputs": [],
   "source": [
    "# 构建商品图V\n",
    "# 计划采用一个列表来表示 n * 2大小 每一行第一个表示边\n",
    "# 还有一种就是传统的邻接矩阵来表示，但是矩阵构造的过程涉及到两个循环的嵌套。。\n",
    "# 应当极力避免循环嵌套。。\n",
    "# 2019/11/09 15：00尝试邻接矩阵方法构建\n",
    "# try failed\n",
    "# 2019/11/09 20:00 尝试使用邻接表方法  failed\n",
    "# 2019/11/09 21:04 尝试设计新的方法，主要失败原因：内存溢出\n",
    "# 2019/11/09 22:00 新方法有效 设计成功\n",
    "# 2019/11/10 14:50 使用numpy手段存储跑出来的数据 成功\n",
    "\n",
    "# graph = np.array(graph)\n",
    "# np.savetxt('/content/drive/My Drive/Colab Notebooks/graph.csv', graph, delimiter=',')\n",
    "# print('saved')\n",
    "# 无法存储数据\n",
    "# np.save('/content/itemGraph.npy', graph)\n",
    "# print('saved')"
   ]
  },
  {
   "cell_type": "code",
   "execution_count": 0,
   "metadata": {
    "colab": {},
    "colab_type": "code",
    "id": "XXECNa3PFrvn"
   },
   "outputs": [],
   "source": [
    "# 2019/11/10 尝试实现itemgraph的去重\n",
    "# 2019/11/10 17：09完成itemgraph的去重，并保存为了itemgraphv2.npy文件\n",
    "# 数量条目为32,646,728\n",
    "# 2019/11/10 17：10开始实现adamic算法计算edge weight\n",
    "# 2019/11/10 20:22 发现itemgraphv2有问题\n",
    "# 2019/11/16 insert失败的主要原因是adamvalues与graph图的数据类型不同\n",
    "item2user = np.load('/content/drive/My Drive/Colab Notebooks/data/item2user.npy', allow_pickle=True).item()\n",
    "user2item = np.load('/content/drive/My Drive/Colab Notebooks/data/user2item.npy', allow_pickle=True).item()\n",
    "itemgraph = np.load('/content/drive/My Drive/Colab Notebooks/data/newgraph.npy')\n",
    "adamvalues = np.load('/content/drive/My Drive/Colab Notebooks/data/adamValues.npy')"
   ]
  },
  {
   "cell_type": "code",
   "execution_count": 0,
   "metadata": {
    "colab": {},
    "colab_type": "code",
    "id": "7Jxu3gqvQINZ"
   },
   "outputs": [],
   "source": [
    "# 可用的商品图去重方法\n",
    "# graph = np.load('/content/drive/My Drive/Colab Notebooks/data/itemGraph.npy') \n",
    "# print(itemgraph.shape)\n",
    "# for i in range(itemgraph.shape[0]):\n",
    "#     if i % 100000 == 0:\n",
    "#         print('\\r', '{:.2f} % '.format(i / itemgraph.shape[0] * 100), end='')\n",
    "#     if itemgraph[i][0] > itemgraph[i][1]:\n",
    "#         x = itemgraph[i][1]\n",
    "#         itemgraph[i][1] = itemgraph[i][0]\n",
    "#         itemgraph[i][0] = x\n",
    "# newgraph = np.array(list(set([tuple(t) for t in itemgraph])))\n",
    "# newgraph.shape\n",
    "# np.save('/content/newgraph.npy', newgraph)"
   ]
  },
  {
   "cell_type": "code",
   "execution_count": 0,
   "metadata": {
    "colab": {},
    "colab_type": "code",
    "id": "oZ9NSR7PTGAP"
   },
   "outputs": [],
   "source": [
    "# 定义一些超参数\n",
    "parser = argparse.ArgumentParser()\n",
    "\n",
    "parser.add_argument('--dataset', type=str, default='kaggle', help='set aside')\n",
    "parser.add_argument('--pooling', type=str, default='adamic', help='which pooling method to use')\n",
    "parser.add_argument('--n_epochs', type=int, default=10, help=' the number of epochs')\n",
    "parser.add_argument('--sample_size', type=int, default=3, help='the number of kidnodes of every node')\n",
    "parser.add_argument('--dim', type=int, default=32, help='number of embedding vector, choose in [8, 16, 32]')\n",
    "parser.add_argument('--k', type=int, default=3, help='the depth of tree')\n",
    "parser.add_argument('--batch_size', type=int, default=128, help='batch size')\n",
    "parser.add_argument('--l2_weight', type=float, default=1e-6, help='weight of l2 regularization in 1e-6~1')\n",
    "parser.add_argument('--lr', type=float, default=1e-2, help='learning rate')"
   ]
  },
  {
   "cell_type": "code",
   "execution_count": 0,
   "metadata": {
    "colab": {
     "base_uri": "https://localhost:8080/",
     "height": 52
    },
    "colab_type": "code",
    "id": "v5Ia8PXCZ2S8",
    "outputId": "f963e820-496d-4e78-ed3f-3ca7b3f31ff3"
   },
   "outputs": [
    {
     "name": "stdout",
     "output_type": "stream",
     "text": [
      "constructing itemgraph ...\n",
      " 99.86 %"
     ]
    }
   ],
   "source": [
    "def takeSecond(elem):\n",
    "    return elem[1]\n",
    "\n",
    "# 2019/11/16 23：13完成子图规则化\n",
    "def construct_graph(itemgraph, adamvalues, n_sample):\n",
    "    print('constructing itemgraph ...')\n",
    "    graph = dict()\n",
    "    for i in range(itemgraph.shape[0]):\n",
    "        if i % 10000 == 0:\n",
    "            print('\\r', '{:.2f} %'.format(i / itemgraph.shape[0] * 100), end='')\n",
    "        first = itemgraph[i][0]\n",
    "        second = itemgraph[i][1]\n",
    "        adamweight = adamvalues[i]\n",
    "        # 此处建立无向图 子图规则化\n",
    "        if first not in graph:\n",
    "            graph[first] = []\n",
    "        graph[first].append((second, adamweight))\n",
    "        if second not in graph:\n",
    "            graph[second] = []\n",
    "        graph[second].append((first, adamweight))\n",
    "\n",
    "    # for item in graph:\n",
    "    #     graph[item] = graph[item].sort(key=takeSecond, reverse=True)\n",
    "    #     if n_sample >= len(graph[item]):\n",
    "    #         pass\n",
    "    #     else:\n",
    "    #         graph[item] = graph[item][: n_sample]\n",
    "    return graph\n",
    "graph = construct_graph(itemgraph=itemgraph, adamvalues=adamvalues, n_sample=3)\n",
    "np.save('/content/graph.npy', graph)\n",
    "graph"
   ]
  },
  {
   "cell_type": "code",
   "execution_count": 0,
   "metadata": {
    "colab": {},
    "colab_type": "code",
    "id": "T8GNYVEAxrIR"
   },
   "outputs": [],
   "source": [
    "def constrcut_adj(args, graph, item_number):\n",
    "    # 要在这实现子图规则化（就是实现\n",
    "    print('constructing adjacency matrix ...')\n",
    "    # 矩阵的每一行都对应这子图规则化选出的三个adamic weight最大的三个物品\n",
    "\n",
    "    # 待开发\n",
    "    # 2019/11/16 21:52需要在此函数设计一个item 2 adjacency id的index"
   ]
  },
  {
   "cell_type": "code",
   "execution_count": 0,
   "metadata": {
    "colab": {},
    "colab_type": "code",
    "id": "rsqd12mFIRha"
   },
   "outputs": [],
   "source": [
    "# 2019/11/16 模型搭建与子图规则化\n",
    "class TSCN(object):\n",
    "    def __init__(self, args, n_item, adj_itemgraph):\n",
    "        self._parse_args(args, adj_itemgraph)\n",
    "        self._build_input()\n",
    "        self._build_model(n_items)\n",
    "        self._build_train()\n",
    "\n",
    "    @staticmethod\n",
    "    def get_initializer():\n",
    "        return tf.contrib.layers.xavier_initializer()\n",
    "\n",
    "    def _parse_args(self, args, adj_itemgraph):\n",
    "        # 此处默认邻接矩阵的行数已经形成与itemid的查询表（index）\n",
    "        self.adj_itemgraph = adj_itemgraph\n",
    "        # 树的深度影响迭代次数\n",
    "        self.k = args.k\n",
    "        self.batch_size = args.batch_size\n",
    "        self.n_rootnode = args.sample_size\n",
    "        self.dim = args.dim\n",
    "        self.l2_weight = args.l2_weight\n",
    "        self.lr = self.lr\n",
    "        if args.pooling == 'average':\n",
    "            self.pooling_class = AveragePooling\n",
    "        elif args.poolling == 'max':\n",
    "            self.pooling_class = MaxPooling\n",
    "        elif args.pooling == 'adamic':\n",
    "            self.pooling_class = AdamicPooling\n",
    "        else:\n",
    "            raise Exception('Unknown pooling method: ' + args.pooling)\n",
    "    \n",
    "    def get_rootnode(self, seeds)\n",
    "\n",
    "    def _build_input(self):\n",
    "        self.item_indices = tf.placeholder(dtype=tf.int64, shape=[None], name='item_indices')\n",
    "        self.labels = tf.placeholder(dtype=tf.float32, shape=[None], name='labels')\n",
    "\n",
    "    def _build_model(self, n_item):\n",
    "        self.\n",
    "\n",
    "\n"
   ]
  }
 ],
 "metadata": {
  "colab": {
   "collapsed_sections": [],
   "machine_shape": "hm",
   "name": "GCN.ipynb",
   "provenance": []
  },
  "kernelspec": {
   "display_name": "Python 3",
   "language": "python",
   "name": "python3"
  },
  "language_info": {
   "codemirror_mode": {
    "name": "ipython",
    "version": 3
   },
   "file_extension": ".py",
   "mimetype": "text/x-python",
   "name": "python",
   "nbconvert_exporter": "python",
   "pygments_lexer": "ipython3",
   "version": "3.7.3"
  }
 },
 "nbformat": 4,
 "nbformat_minor": 1
}
